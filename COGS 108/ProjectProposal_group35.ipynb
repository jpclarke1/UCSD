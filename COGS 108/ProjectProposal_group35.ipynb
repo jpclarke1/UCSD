{
  "cells": [
    {
      "cell_type": "markdown",
      "metadata": {
        "colab_type": "text",
        "id": "view-in-github"
      },
      "source": [
        "<a href=\"https://colab.research.google.com/github/buttterdawg/COGS108_Repo/blob/main/Copy_of_ProjectProposal_group035.ipynb\" target=\"_parent\"><img src=\"https://colab.research.google.com/assets/colab-badge.svg\" alt=\"Open In Colab\"/></a>"
      ]
    },
    {
      "cell_type": "markdown",
      "metadata": {
        "id": "IrEcE7ACLwjG"
      },
      "source": [
        "# COGS 108 - Final Project Proposal"
      ]
    },
    {
      "cell_type": "markdown",
      "metadata": {
        "id": "LklXpfcpLwjZ"
      },
      "source": [
        "# Names\n",
        "\n",
        "- Kyla Leilani Ortega\n",
        "- Joshua Clarke\n",
        "- Sheily Castellanos\n",
        "- Maxine Krantz\n",
        "- Shruti Rao\n"
      ]
    },
    {
      "cell_type": "markdown",
      "metadata": {
        "id": "NLmekQGOLwjZ"
      },
      "source": [
        "# Research Question"
      ]
    },
    {
      "cell_type": "markdown",
      "metadata": {
        "id": "G5kF92nkM2b9"
      },
      "source": [
        "How do variables such as life expectancy, air quality, and built environment in San Diego relate to how walkable an area is?\n"
      ]
    },
    {
      "cell_type": "markdown",
      "metadata": {
        "id": "s6jXBC75Lwja"
      },
      "source": [
        "# Background and Prior Work"
      ]
    },
    {
      "cell_type": "markdown",
      "metadata": {
        "id": "KsW6mCcyLwjb"
      },
      "source": [
        "For our research project we are going to focus on how different factors, such as life expectancy, physical enviornment(air quality), and built enviornment (distance to parks/places) relationship to walkability of different areas throughout San diego. These 3 variables are all thoughfully relate to and affected by walkable cities. We're going to focus on san diego for our project and look into different neighborhoods/cities and how they compare with those 3 variables. In some of the studies it also shows how there are relatinoships between these variables and walkability - like the relationship between walkability and air quality influencing health impacts, which can affect one's life expectancy.\n",
        "\n",
        "This is a previous study done that's correlated to our project proposal topic and their findings:\n",
        "https://www.insider.com/living-in-walkable-neighborhood-could-help-you-live-100-study-2020-6\n",
        "\n",
        "  - A new study from Washington State University found that people are more likely to live to 100 years old if they live in neighborhoods with high levels of walkability.\n",
        "  -Neighborhoods where there is an abundance of public infrastructure and places to walk to can help increase residents' lifespan, they found.\n",
        "  - \"For example, living in walkable neighborhoods allowed him to get exercise, have easy access to medical care and grocery stores, and was an important way for him to socialize.\"\n",
        "  -Traditionally, we have believed that genetics plays a large role in aging,\" said Bhardwaj. \"It is an important component, but research has consistently shown that environmental factors may be more significant contributors.\"\n",
        "  -The study found being in a safe, walkable neighborhood is more conducive to having a longer life.\n",
        "  \n",
        "  https://www.sciencedaily.com/releases/2009/11/091102171728.htm\n",
        "  - The research team found that, on average, neighborhoods downtown are more walkable and have high levels of some pollutants, while suburban locations are less walkable and have high levels of different pollutants.\n",
        "  -Neighborhoods that fare well for pollution and walkability tend to be a few miles away from the downtown area\n",
        "  - \"Research has shown that exposure to air pollution adversely affects human health by triggering or exacerbating a number of health issues such as asthma and heart disease\"\n",
        "  - Neighborhood design can influence air pollution and walkability; more walkable neighborhoods may encourage higher daily activity levels.\"\n",
        "  - More walkable neighborhoods tend to have mixed land uses, with destinations such as stores and shops within walking distance of people's houses.\n",
        "\n",
        "  https://www.frontiersin.org/articles/10.3389/fbuil.2021.721218/full\n",
        "  -A study by Saint Maurice et al. (2020) on adults in the United States drew the correlation between higher daily step count and average all-causes mortality rates. The mortality rate for those above 65 years old who walked for 2,000 steps per day was found to be 78 per 1,000 as opposed to the mortality rate of 12 per 1,000 for those who walked 10,000 steps per day. Walking is considered a safe training activity to improve cardiovascular health in general\n",
        "  -Associations between walkability and air pollution are not direct. More congested city centers tend to be more walkable but have higher air pollution and suburbs have low walkability and low air pollution, but the regions in the middle tend to have low air pollution and high walkability. Studies show that air pollution impacts the quality of health benefits achieved through walking, and other studies question the risks from exposure to particulate matters.\n",
        "\n",
        "\n",
        "\n",
        "\n",
        "\n",
        "\n"
      ]
    },
    {
      "cell_type": "markdown",
      "metadata": {
        "id": "59bup_PrLwje"
      },
      "source": [
        "# Hypothesis\n"
      ]
    },
    {
      "cell_type": "markdown",
      "metadata": {
        "id": "mAdKmIEYLwjf"
      },
      "source": [
        "Hypothesis: If we study the relationship between walkability in different San Diego neighborhoods and life expectancy, air quality, and distance to parks/shops/places, then we will discover that increased walkability leads to higher life expectancy, decreased air quality, and shorter distances to communiuty places.\n",
        "\n",
        "\n",
        "Null Hypothesis: If we study the relationship between walkability in different San Diego neighborhoods and life expectancy, air quality, and distance to parks/shops/places, then we will discover that increased walkability leads to no significant difference in people's  life expectancy, the air quality, or distances to communiuty places.\n"
      ]
    },
    {
      "cell_type": "markdown",
      "metadata": {
        "id": "XNfIJv6dLwjg"
      },
      "source": [
        "# Data"
      ]
    },
    {
      "cell_type": "markdown",
      "metadata": {
        "id": "u2S4rcbGLwjh"
      },
      "source": [
        "\n",
        "1. Our ideal dataset would have San Diego County information that includes variables related to walkability of a city, which would be things like proximity to food resources, amount of community spaces, and pedestrian-friendly infrastructure. A dataset with quality of life/standard of living variables would also be ideal (life expectancy, air quality, etc) . Additionally, an ideal dataset would be organized by each city in the county and have observations from about a decade or so, stored in a csv file.\n",
        "\n",
        "2.  The dataset we have found for answering this question is the [Live Well San Diego database](https://data.sandiegocounty.gov/Live-Well-San-Diego/Live-Well-San-Diego-Database/fime-xc2s), which starts in 2009 and is collected annually. It includes many variables from all of San Diego County's cities including life expectancy, air quality, and distances to community spaces. It has 962 rows and 61 columns total, which means we have a lot of variables to sift out. Because of its wealth of geographic observations, it would be interesting also to make a spatial map with this data. This dataset is basically the ideal because of all of the variables available to explore and the number of observations."
      ]
    },
    {
      "cell_type": "markdown",
      "metadata": {
        "id": "_wOs5JFhLwji"
      },
      "source": [
        "# Ethics & Privacy"
      ]
    },
    {
      "cell_type": "markdown",
      "metadata": {
        "id": "lTy9AbQiLwji"
      },
      "source": [
        "Ethical concerns throughout data science process:\n",
        "Privacy and data protection, data bias, data quality, inclusivity, data retention, and overgeneralization.\n",
        "\n",
        "Given that the data we will be using to test our hypothesis conisists of annulally collected information from the San Diego County, some factors that our group will have to actively consider when studying the data in order to maintain Ethics and Privacy include specifically the following.\n",
        "1. Data Inconsistency: The San Diego County Data collected annually might vary in terms of methods, criteria, or data sources used to collect the dataset over time which can complicate trend analysis and affect the accuracy of long-term comparisons.\n",
        "2. Seasonal Variations: Some variables may display significant seasonal variations therefire Annual data may not fully capture such fluctuations, potentially leading to a limited understanding of the overall trends.\n",
        "3. Statistical Noise: Temporary fluctuations or random variations in the data can be mistaken for meaningful trends when analyzing annual data, leading to misinterpretation of the dataset.\n",
        "\n",
        "Due to our dataset being pulled from public San Diego County information, there is a lowered chance of identity disclosure and sharing of sensitive information.\n",
        "\n",
        "Our group will assess the data and seek to identitfy these factors by examining missing data points for each year and determining if there are patterns or trends related to data completeness, Comparing data values for each variable across many years to check for significant variations or inconsistencies such as sudden jumps, drops, or unexpected changes before and after our analysis.\n",
        "\n",
        "How we will handle Bias/Ethical Concerns:\n",
        "During our revision of the dataset, in the case that we identify any such issues that violates Ethics and Privacy, we will investigate the reasons behind data inconsistencies which could be due to changes in data collection processes, data entry errors, changes in definitions, or other factors. In addition, cross-validate the information with external sources to validate and verify the accuracy of the collected data.\n"
      ]
    },
    {
      "cell_type": "markdown",
      "metadata": {
        "id": "KAjRRoqCLwji"
      },
      "source": [
        "# Team Expectations"
      ]
    },
    {
      "cell_type": "markdown",
      "metadata": {
        "id": "b2C55E67Lwjj"
      },
      "source": [
        "\n",
        "* Communication: We expect all team members to maintain regular communication throughout the quarter. This includes responding to messages and emails in a timely manner, actively participating in team meetings, and keeping everyone informed of any updates or changes related to the project.\n",
        "* Responsibility and Accountability: Each team member is expected to take responsibility for their assigned tasks and complete them within the agreed-upon deadlines. If for any reason someone is unable to meet a deadline, they should communicate it to the team as soon as possible and work together to find a solution.\n",
        "* Respectful and Professional Behavior: We will maintain a respectful and professional tone in all our communications. We will treat each other with kindness, understanding, and empathy. In the case of conflicts or disagreements, we will address them calmly and constructively, focusing on finding a solution rather than placing blame.\n",
        "\n",
        "By adding our names below, we acknowledge that we have read and understood the COGS108 Team Policies and agree to abide by the team expectations and communication plan outlined above.\n",
        "\n",
        "\n",
        "Team Members:\n",
        "1. Joshua Clarke\n",
        "2. Maxine krantz\n",
        "3. Kyla Leilani Ortega\n",
        "4. Shruti Rao\n",
        "5. Sheily Castellanos\n"
      ]
    },
    {
      "cell_type": "markdown",
      "metadata": {
        "id": "RJ-WG58tLwjj"
      },
      "source": [
        "# Project Timeline Proposal"
      ]
    },
    {
      "cell_type": "markdown",
      "metadata": {
        "id": "4ud7EY0mLwjk"
      },
      "source": [
        "Specify your team's project timeline. An example timeline has been provided. Changes the dates, times, names, and details to fit your group's plan.\n",
        "\n",
        "If you think you will need any special resources or training outside what we have covered in COGS 108 to solve your problem, then your proposal should state these clearly. For example, if you have selected a problem that involves implementing multiple neural networks, please state this so we can make sure you are on track for success and so we can point you to resources you will need to implement your project. Note that you are not required to use outside methods.\n",
        "\n",
        "\n",
        "\n",
        "| Meeting Date  | Meeting Time| Completed Before Meeting  | Discuss at Meeting |\n",
        "|---|---|---|---|\n",
        "| 7/18  |  7 PM | Review project proposal  | Discuss Wrangling and possible analytical approaches; Assign group members to lead each specific part |\n",
        "| 7/21  |  11 AM |  Import & wrangle data| Review/Edit wrangling; Discuss Analysis Plan |\n",
        "| 7/24  | 8 PM  | EDA |  Review/Edit EDA  |\n",
        "| 7/29  | 11 AM  | Finalize wrangling/EDA; Begin Analysis | Discuss/Edit Analysis |\n",
        "| 8/2  | 4 PM  | Complete analysis; Draft results/conclusion/discussion| Discuss/edit full project |\n",
        "| 8/4  | Before 11:59 PM  | NA | Turn in Final Project & Group Project Surveys |"
      ]
    }
  ],
  "metadata": {
    "colab": {
      "include_colab_link": true,
      "provenance": []
    },
    "kernelspec": {
      "display_name": "Python 3 (ipykernel)",
      "language": "python",
      "name": "python3"
    },
    "language_info": {
      "codemirror_mode": {
        "name": "ipython",
        "version": 3
      },
      "file_extension": ".py",
      "mimetype": "text/x-python",
      "name": "python",
      "nbconvert_exporter": "python",
      "pygments_lexer": "ipython3",
      "version": "3.9.13"
    }
  },
  "nbformat": 4,
  "nbformat_minor": 0
}
